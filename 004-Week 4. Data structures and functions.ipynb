{
 "cells": [
  {
   "cell_type": "markdown",
   "metadata": {},
   "source": [
    "# Week 4. Data structures and functions.\n",
    "\n",
    "## Up until now, the variables we have been using were able to hold a single value into them. \n",
    "\n",
    "## There are however more advanced ways of storing data.\n",
    "\n",
    "## We will cover the 3 basic data types in pyhon: Lists, Sets and Dictionaries.\n"
   ]
  },
  {
   "cell_type": "markdown",
   "metadata": {},
   "source": [
    "## Lists.\n",
    "\n",
    "## A list is a sequence of values. Lists permit the same element to appear multiple times. Also the order in which the elements are added is important.\n",
    "\n",
    "## There are two ways to declare a variable as a list.\n",
    "\n",
    "```python\n",
    "variable = list()\n",
    "```\n",
    "## Or\n",
    "\n",
    "```python\n",
    "variable = []\n",
    "```\n",
    "\n",
    "## The second way is the recommended one. \n",
    "\n",
    "## Let's create a list with the name of my friends.\n",
    "\n",
    "```python\n",
    "friends = [\"Hector\", \"Alex\", \"Javier\", \"Ruben\"]\n",
    "```"
   ]
  },
  {
   "cell_type": "code",
   "execution_count": 35,
   "metadata": {},
   "outputs": [],
   "source": [
    "# Copy the code from above and execute it. \n"
   ]
  },
  {
   "cell_type": "markdown",
   "metadata": {},
   "source": [
    "## We can do several things with the list. \n",
    "## 1. We can access to a particular element of the list\n",
    "```python\n",
    "friend_1 = friends[2] \n",
    "print(friend_1)\n",
    "friend_2 = friends[0] \n",
    "print(friend_2)\n",
    "```\n",
    "\n"
   ]
  },
  {
   "cell_type": "code",
   "execution_count": 36,
   "metadata": {},
   "outputs": [],
   "source": [
    "# Copy the code from above and execute it. Can you guess what it will print?\n"
   ]
  },
  {
   "cell_type": "markdown",
   "metadata": {},
   "source": [
    "## 2. We can iterate over the elements of a list using a for loop\n",
    "```python\n",
    "for some_friend in friends:\n",
    "    print(some_friend)\n",
    "```\n",
    "\n"
   ]
  },
  {
   "cell_type": "code",
   "execution_count": 37,
   "metadata": {},
   "outputs": [],
   "source": [
    "# Copy the code from above and execute it. Can you guess what it will print?\n"
   ]
  },
  {
   "cell_type": "markdown",
   "metadata": {},
   "source": [
    "## 3. We can check whether an element is contained in a list.\n",
    "\n",
    "```python\n",
    "if \"James\" in friends:\n",
    "    print(\"James is my friend\")\n",
    "\n",
    "if \"Hector\" in friends:\n",
    "    print(\"Hector is my friend\")\n",
    "```    \n",
    "\n"
   ]
  },
  {
   "cell_type": "code",
   "execution_count": 38,
   "metadata": {},
   "outputs": [],
   "source": [
    "# Copy the code from above and execute it. Can you guess what it will print?\n"
   ]
  },
  {
   "cell_type": "markdown",
   "metadata": {},
   "source": [
    "## 4. We can check the size of a list\n",
    "```python\n",
    "len(friends)\n",
    "```"
   ]
  },
  {
   "cell_type": "code",
   "execution_count": 39,
   "metadata": {},
   "outputs": [],
   "source": [
    "# Copy the code from above and execute it. Can you guess what it will print?\n"
   ]
  },
  {
   "cell_type": "markdown",
   "metadata": {},
   "source": [
    "## 5. Oh, we can also access the elements of a list from the end of it, for example, to get the last element of a list we can do \n",
    "\n",
    "```python\n",
    "frient_1 = friends[-1] # \n",
    "print(friend_1)\n",
    "friend_2 = friends[-2] # \n",
    "print(friend_2)\n",
    "```"
   ]
  },
  {
   "cell_type": "code",
   "execution_count": 40,
   "metadata": {},
   "outputs": [],
   "source": [
    "# Copy the code from above and execute it. Can you guess what it will print?\n"
   ]
  },
  {
   "cell_type": "markdown",
   "metadata": {},
   "source": [
    "## 6. We  can add a list to another list. \n",
    "\n",
    "```python\n",
    "friends = [\"Hector\", \"Alex\", \"Javier\", \"Ruben\"]\n",
    "family = [\"Maria Jose\", \"Juan\", \"Irene\", \"Maria\"]\n",
    "\n",
    "friends_and_family = friends + family\n",
    "\n",
    "for important_person in friends_and_family:\n",
    "    print(important_person)\n",
    "```\n",
    "\n"
   ]
  },
  {
   "cell_type": "code",
   "execution_count": 41,
   "metadata": {},
   "outputs": [],
   "source": [
    "# Copy the code from above and execute it. Can you guess what it will print?\n"
   ]
  },
  {
   "cell_type": "markdown",
   "metadata": {},
   "source": [
    "## 7. We can also add elements to a list.\n",
    "\n",
    "```python\n",
    "ingredients = []\n",
    "ingredients.append(\"Salt\")\n",
    "ingredients.append(\"Sugar\")\n",
    "ingredients.append(\"Water\")\n",
    "ingredients.append(\"Eggs\")\n",
    "print(ingredients)\n",
    "```\n",
    "\n"
   ]
  },
  {
   "cell_type": "code",
   "execution_count": 42,
   "metadata": {},
   "outputs": [],
   "source": [
    "# Copy the code from above and execute it. Can you guess what it will print?\n"
   ]
  },
  {
   "cell_type": "markdown",
   "metadata": {},
   "source": [
    "# Lets play with the following code\n",
    "\n",
    "```python\n",
    "prime_numbers = [1, 2, 3, 5, 7, 11, 13, 17, 19, 23]\n",
    "for prime_number in prime_numbers:\n",
    "    print(f\"{prime_number} is a prime number\")\n",
    "```    \n",
    "\n"
   ]
  },
  {
   "cell_type": "code",
   "execution_count": 43,
   "metadata": {},
   "outputs": [],
   "source": [
    "# Copy the code from above and execute it. Can you guess what it will print?\n"
   ]
  },
  {
   "cell_type": "markdown",
   "metadata": {},
   "source": [
    "## Exercise 1. Create two lists. Go through numbers 1 to 100, store even numbers in one list and odd numbers in the other.\n",
    "\n",
    "#### Hint: Remember, you can iterate over the numbers with a loop like\n",
    "\n",
    "```python\n",
    "for number in range(1, 101):\n",
    "    print(number)\n",
    "```    "
   ]
  },
  {
   "cell_type": "code",
   "execution_count": 44,
   "metadata": {},
   "outputs": [],
   "source": [
    "# Solve the exercise here\n"
   ]
  },
  {
   "cell_type": "markdown",
   "metadata": {},
   "source": [
    "## Exercise 2. Using the list you created in exercise 1. Iterate over all its elements and sum all the numbers on it. Then print out the total sum\n"
   ]
  },
  {
   "cell_type": "code",
   "execution_count": 45,
   "metadata": {},
   "outputs": [],
   "source": [
    "# Solve the exercise here\n"
   ]
  },
  {
   "cell_type": "markdown",
   "metadata": {},
   "source": [
    "## Exercise 3. Same as exercise 2, but in this case multiply all the elements in the list."
   ]
  },
  {
   "cell_type": "code",
   "execution_count": 6,
   "metadata": {},
   "outputs": [],
   "source": [
    "# Solve the exercise here\n"
   ]
  },
  {
   "cell_type": "markdown",
   "metadata": {},
   "source": [
    "## Exercise 4. Write an algorithm to find the smallest number in a list."
   ]
  },
  {
   "cell_type": "code",
   "execution_count": 7,
   "metadata": {},
   "outputs": [],
   "source": [
    "# Solve the exercise here\n",
    "my_list = [3, 8, -1, -12, 7] \n",
    "# The result should be -12\n"
   ]
  },
  {
   "cell_type": "markdown",
   "metadata": {},
   "source": [
    "# Sets. \n",
    "\n",
    "## Sets are similar to list except for the following.\n",
    "\n",
    "## 1. Sets do not contain duplicated elements.\n",
    "## 2. You can not access an element by its index or position in the set. Furthermore, you cannot assume what is the location of an element in the set.\n",
    "\n",
    "## To declare a set you can do\n",
    "\n",
    "```python\n",
    "my_set = set()\n",
    "```\n",
    "\n",
    "## Or\n",
    "\n",
    "```python\n",
    "my_set = ()\n",
    "```\n",
    "\n",
    "## Apart from that we can do the following with a set\n",
    "\n",
    "## 1. Add elements to it\n",
    "\n",
    "```python\n",
    "planets = set()\n",
    "planets.add(\"Mercury\")\n",
    "planets.add(\"Venus\")\n",
    "planets.add(\"Earth\")\n",
    "print(planets)\n",
    "```\n",
    "\n"
   ]
  },
  {
   "cell_type": "code",
   "execution_count": 20,
   "metadata": {},
   "outputs": [],
   "source": [
    "# Copy the code from above and execute it \n"
   ]
  },
  {
   "cell_type": "markdown",
   "metadata": {},
   "source": [
    "## 2. Get the size of a set\n",
    "```python\n",
    "len(planets)\n",
    "```\n",
    "\n"
   ]
  },
  {
   "cell_type": "code",
   "execution_count": 24,
   "metadata": {},
   "outputs": [],
   "source": [
    "# Copy the code from above and execute it, can you guess what will be the output\n",
    "\n"
   ]
  },
  {
   "cell_type": "markdown",
   "metadata": {},
   "source": [
    "## 3. Check whether an element is contained in a set\n",
    "\n",
    "```python\n",
    "\n",
    "if \"Mercury\" in planets:\n",
    "    print(\"Mercury is a planet\")\n",
    "    \n",
    "if \"Moon\" in planets:\n",
    "    print(\"The Moon is a planet\")\n",
    "```    "
   ]
  },
  {
   "cell_type": "code",
   "execution_count": 26,
   "metadata": {},
   "outputs": [],
   "source": [
    "# Copy the code from above and execute it, can you guess what will be the output\n"
   ]
  },
  {
   "cell_type": "markdown",
   "metadata": {},
   "source": [
    "## 4. Find common elements in sets\n",
    "\n",
    "```python\n",
    "english_speaking_countries = set()\n",
    "english_speaking_countries.add(\"United Kingdom\")\n",
    "english_speaking_countries.add(\"South Africa\")\n",
    "english_speaking_countries.add(\"Australia\")\n",
    "english_speaking_countries.add(\"New Zealand\")\n",
    "english_speaking_countries.add(\"United States\")\n",
    "\n",
    "islands = set()\n",
    "islands.add(\"Japan\")\n",
    "islands.add(\"New Zealand\")\n",
    "islands.add(\"Australia\")\n",
    "islands.add(\"United Kindgom\")\n",
    "\n",
    "# The \"&\" symbol means \"and\" for set operations\n",
    "islands_speaking_english = islands & english_speaking_countries\n",
    "```\n"
   ]
  },
  {
   "cell_type": "code",
   "execution_count": 16,
   "metadata": {},
   "outputs": [],
   "source": [
    "# Copy the code from aboce and execute it, can you guess what will be the result?\n"
   ]
  },
  {
   "cell_type": "markdown",
   "metadata": {},
   "source": []
  },
  {
   "cell_type": "code",
   "execution_count": null,
   "metadata": {},
   "outputs": [],
   "source": []
  }
 ],
 "metadata": {
  "kernelspec": {
   "display_name": "Python 3",
   "language": "python",
   "name": "python3"
  },
  "language_info": {
   "codemirror_mode": {
    "name": "ipython",
    "version": 3
   },
   "file_extension": ".py",
   "mimetype": "text/x-python",
   "name": "python",
   "nbconvert_exporter": "python",
   "pygments_lexer": "ipython3",
   "version": "3.7.3"
  }
 },
 "nbformat": 4,
 "nbformat_minor": 2
}
