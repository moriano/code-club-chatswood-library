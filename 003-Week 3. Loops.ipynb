{
 "cells": [
  {
   "cell_type": "markdown",
   "metadata": {},
   "source": [
    "# Week 3: Loops.\n",
    "\n",
    "## Loops allow us to execute the same cover over and over. \n",
    "\n",
    "## Sounds boring? It is not!\n",
    "\n",
    "## Lets illustrate the need for loops with a simple algorithm\n",
    "\n",
    "### Introducing: Compound interest or how everyone can become a millionare.\n",
    "\n",
    "### Say you save 5000 every year. And every year you decide to invest into a company, such company will pay you 5% of interest every year. When the interest is paid, you decide to reinvest it into the company again. \n",
    "\n",
    "### So things looks like this\n",
    "\n",
    "* Year 1: You invest 5000\\\\$, they pay you 5% interest, which is 250\\\\$, now you have 5250\\\\$\n",
    "* Year 2: You invest another 5000\\\\$, you had 5250\\\\$ from the previous year. A total of 10250\\\\$ and the company pays you 5% of the total that is 512.5\\\\$ and you decide to reinvest it again\n",
    "\n",
    "### Write an algorithm to calculate the amount of money you will have after 5 years. Print the total amount of money for each year.\n",
    " \n",
    "```python\n",
    "\n",
    "investment = 5000\n",
    "interest = 0.05 # <---- This is 5%\n",
    "total = 0\n",
    "\n",
    "total = total + investment\n",
    "total = total + (total * interest)\n",
    "print(f\"Money after year 1 is {total}\")\n",
    "\n",
    "total = total + investment\n",
    "total = total + (total * interest)\n",
    "print(f\"Money after year 2 is {total}\")\n",
    "\n",
    "total = total + investment\n",
    "total = total + (total * interest)\n",
    "print(f\"Money after year 3 is {total}\")\n",
    "\n",
    "total = total + investment\n",
    "total = total + (total * interest)\n",
    "print(f\"Money after year 4 is {total}\")\n",
    "\n",
    "total = total + investment\n",
    "total = total + (total * interest)\n",
    "print(f\"Money after year 5 is {total}\")\n",
    "```\n"
   ]
  },
  {
   "cell_type": "code",
   "execution_count": 32,
   "metadata": {},
   "outputs": [],
   "source": [
    "# Copy the code and execute it.\n"
   ]
  },
  {
   "cell_type": "markdown",
   "metadata": {},
   "source": [
    "## The code from above works, but it is **very** repetitive, we have the same block over and over. \n",
    "\n",
    "## Introducing the while loop.\n",
    "\n",
    "## The while loop will execute as long as a condition is met\n",
    "\n",
    "```python\n",
    "\n",
    "investment = 5000\n",
    "interest = 0.05 # <---- This is 5%\n",
    "total = 0\n",
    "\n",
    "year = 1\n",
    "\n",
    "while year <= 5:\n",
    "    total = total + investment\n",
    "    total = total + (total * interest)\n",
    "    print(f\"Money after year {year} is {total}\")\n",
    "       \n",
    "    year = year + 1\n",
    "```"
   ]
  },
  {
   "cell_type": "code",
   "execution_count": 26,
   "metadata": {},
   "outputs": [],
   "source": [
    "# Copy the code from above and execute it. Can you try to guess what it will do?\n"
   ]
  },
  {
   "cell_type": "markdown",
   "metadata": {},
   "source": [
    "## Exercise: Modify the code so that it keeps calculating the compound interest until the we reach 1 million dollars. "
   ]
  },
  {
   "cell_type": "code",
   "execution_count": 27,
   "metadata": {},
   "outputs": [],
   "source": [
    "# Modify the code so we calculate compound interest until we are millionares."
   ]
  },
  {
   "cell_type": "markdown",
   "metadata": {},
   "source": [
    "# The For loop.\n",
    "\n",
    "## In this loop, we iterate a known number of times. \n",
    "\n",
    "## Lets do the same compound interest exercise with a for loop:\n",
    "\n",
    "```python\n",
    "investment = 5000\n",
    "interest = 0.05 # <---- This is 5%\n",
    "total = 0\n",
    "\n",
    "for year in range(0, 6):\n",
    "    total = total + investment\n",
    "    total = total + (total * interest)\n",
    "    print(f\"Money after year {year} is {total}\")\n",
    "```"
   ]
  },
  {
   "cell_type": "code",
   "execution_count": 30,
   "metadata": {},
   "outputs": [
    {
     "name": "stdout",
     "output_type": "stream",
     "text": [
      "Money after year 1 is 5250.0\n",
      "Money after year 2 is 10762.5\n",
      "Money after year 3 is 16550.625\n",
      "Money after year 4 is 22628.15625\n",
      "Money after year 5 is 29009.5640625\n"
     ]
    }
   ],
   "source": [
    "investment = 5000\n",
    "interest = 0.05 # <---- This is 5%\n",
    "total = 0\n",
    "\n",
    "for year in range(1, 6):\n",
    "    total = total + investment\n",
    "    total = total + (total * interest)\n",
    "    print(f\"Money after year {year} is {total}\")"
   ]
  },
  {
   "cell_type": "code",
   "execution_count": 4,
   "metadata": {},
   "outputs": [],
   "source": [
    "# Copy and execute the code from above... can you guess what it will do?\n"
   ]
  },
  {
   "cell_type": "markdown",
   "metadata": {},
   "source": [
    "# Loop can be interrupted at any point using the `break` command. This is useful when you do not need to keep iterating.\n",
    "\n",
    "```python\n",
    "investment = 5000\n",
    "interest = 0.05 # <---- This is 5%\n",
    "total = 0\n",
    "\n",
    "for year in range(1, 6):\n",
    "    total = total + investment\n",
    "    total = total + (total * interest)\n",
    "    print(f\"Money after year {year} is {total}\")\n",
    "    if total > 12000:\n",
    "        break\n",
    "```"
   ]
  },
  {
   "cell_type": "code",
   "execution_count": 36,
   "metadata": {},
   "outputs": [],
   "source": [
    "# Copy the code from above and execute it. \n"
   ]
  },
  {
   "cell_type": "markdown",
   "metadata": {},
   "source": [
    "# Exercise 1.\n",
    "\n",
    "## Write an algorithm to determine whether a number is prime or not.\n",
    "\n",
    "## We can use the modulus operator % to find out whether number X is divisible by number Y\n",
    "\n",
    "```python\n",
    "x = 100\n",
    "y = 25\n",
    "\n",
    "if x % y == 0:\n",
    "    print(f\"{x} is divisible by {y}\")\n",
    "else:\n",
    "    print(f\"{x} is NOT divisible by {y}\")\n",
    "\n",
    "```\n",
    "\n",
    "## A number is prime if and only if it is only divisible by itself and 1. \n",
    "\n",
    "## Lets call our candidate number $N$ all we have to do is try to divide $N$ by all the numbers between $2$ and $N-1$\n",
    "\n",
    "```python\n",
    "n = 337 # Lets try to figure out if this number is prime or not\n",
    "\n",
    "divisor = 2\n",
    "is_prime = True\n",
    "\n",
    "while divisor < n:\n",
    "    if n % divisor == 0:\n",
    "        print(f\"{n} is NOT prime, as it is divisible by {divisor}\")\n",
    "        is_prime = False\n",
    "        break # No need to keep checking\n",
    "    divisor = divisor + 1\n",
    "if is_prime:\n",
    "    print(f\"{n} is a prime number\")\n",
    "    \n",
    "```"
   ]
  },
  {
   "cell_type": "code",
   "execution_count": 42,
   "metadata": {},
   "outputs": [],
   "source": [
    "# Write the code from above and execute it \n"
   ]
  },
  {
   "cell_type": "markdown",
   "metadata": {},
   "source": [
    "# Exercise 2. \n",
    "\n",
    "## Write an algorithm that prints all the numbers from 1 to 100"
   ]
  },
  {
   "cell_type": "code",
   "execution_count": null,
   "metadata": {},
   "outputs": [],
   "source": [
    "# Solve the exercise here \n"
   ]
  },
  {
   "cell_type": "markdown",
   "metadata": {},
   "source": [
    "# Exercise 2 follow up.\n",
    "\n",
    "## Modify the algorithm so that now we print the numbers from 100 to 1 (in descending order)."
   ]
  },
  {
   "cell_type": "code",
   "execution_count": 43,
   "metadata": {},
   "outputs": [],
   "source": [
    "# Solve the exercise here \n"
   ]
  },
  {
   "cell_type": "markdown",
   "metadata": {},
   "source": [
    "# Exercise 3. \n",
    "\n",
    "## Print all the even numbers from 50 to 200"
   ]
  },
  {
   "cell_type": "code",
   "execution_count": 44,
   "metadata": {},
   "outputs": [],
   "source": [
    "# Solve the exercise here \n"
   ]
  },
  {
   "cell_type": "markdown",
   "metadata": {},
   "source": [
    "# Exercise 4. \n",
    "\n",
    "## Iterate all the numbers from 1 to 100. \n",
    "\n",
    "## if a number is divisible by 3 print \"fizz\".\n",
    "\n",
    "## if a number is divisible by 5 print \"buzz\".\n",
    "\n",
    "## if a number is divisible by 3 and 5, print \"fizzbuzz\" in the same line."
   ]
  },
  {
   "cell_type": "code",
   "execution_count": 45,
   "metadata": {},
   "outputs": [],
   "source": [
    "# Solve the exercise here\n"
   ]
  },
  {
   "cell_type": "markdown",
   "metadata": {},
   "source": [
    "# Exercise 5. \n",
    "\n",
    "## The fibonacci sequence. \n",
    "\n",
    "## It is a numberic sequence, where the first terms are $0$ and $1$ each term of the sequence of fibonacci is calculated by adding the two previous terms. \n",
    "\n",
    "## First term: $0$, Second term $1$, third term $0+1 = 1$, fourth term = $1+1=2$, fifth term = $2+1=3$, sixth term = $2+3=5$\n",
    "\n",
    "## Calculate the first 50 terms.\n",
    "\n",
    "```python \n",
    "\n",
    "previous_term = 0\n",
    "current_term = 1\n",
    "\n",
    "sequence_number = 0\n",
    "\n",
    "while sequence_number < 50:\n",
    "    total_items = total_items - 1\n",
    "    \n",
    "    next_term = current_term + previous_term\n",
    "    previous_term = current_term\n",
    "    current_term = next_term\n",
    "    print(f\"Term number {sequence_number} is {current_term}\")\n",
    "```    "
   ]
  },
  {
   "cell_type": "code",
   "execution_count": 46,
   "metadata": {},
   "outputs": [
    {
     "ename": "NameError",
     "evalue": "name 'total_items' is not defined",
     "output_type": "error",
     "traceback": [
      "\u001b[0;31m---------------------------------------------------------------------------\u001b[0m",
      "\u001b[0;31mNameError\u001b[0m                                 Traceback (most recent call last)",
      "\u001b[0;32m<ipython-input-46-984f508b422c>\u001b[0m in \u001b[0;36m<module>\u001b[0;34m\u001b[0m\n\u001b[1;32m      5\u001b[0m \u001b[0;34m\u001b[0m\u001b[0m\n\u001b[1;32m      6\u001b[0m \u001b[0;32mwhile\u001b[0m \u001b[0msequence_number\u001b[0m \u001b[0;34m<\u001b[0m \u001b[0;36m50\u001b[0m\u001b[0;34m:\u001b[0m\u001b[0;34m\u001b[0m\u001b[0;34m\u001b[0m\u001b[0m\n\u001b[0;32m----> 7\u001b[0;31m     \u001b[0mtotal_items\u001b[0m \u001b[0;34m=\u001b[0m \u001b[0mtotal_items\u001b[0m \u001b[0;34m-\u001b[0m \u001b[0;36m1\u001b[0m\u001b[0;34m\u001b[0m\u001b[0;34m\u001b[0m\u001b[0m\n\u001b[0m\u001b[1;32m      8\u001b[0m \u001b[0;34m\u001b[0m\u001b[0m\n\u001b[1;32m      9\u001b[0m     \u001b[0mnext_term\u001b[0m \u001b[0;34m=\u001b[0m \u001b[0mcurrent_term\u001b[0m \u001b[0;34m+\u001b[0m \u001b[0mprevious_term\u001b[0m\u001b[0;34m\u001b[0m\u001b[0;34m\u001b[0m\u001b[0m\n",
      "\u001b[0;31mNameError\u001b[0m: name 'total_items' is not defined"
     ]
    }
   ],
   "source": [
    "previous_term = 0\n",
    "current_term = 1\n",
    "\n",
    "sequence_number = 0\n",
    "\n",
    "while sequence_number < 50:\n",
    "    total_items = total_items - 1\n",
    "\n",
    "    next_term = current_term + previous_term\n",
    "    previous_term = current_term\n",
    "    current_term = next_term\n",
    "    print(f\"Term number {sequence_number} is {current_term}\")"
   ]
  },
  {
   "cell_type": "code",
   "execution_count": null,
   "metadata": {},
   "outputs": [],
   "source": []
  }
 ],
 "metadata": {
  "kernelspec": {
   "display_name": "Python 3",
   "language": "python",
   "name": "python3"
  },
  "language_info": {
   "codemirror_mode": {
    "name": "ipython",
    "version": 3
   },
   "file_extension": ".py",
   "mimetype": "text/x-python",
   "name": "python",
   "nbconvert_exporter": "python",
   "pygments_lexer": "ipython3",
   "version": "3.7.3"
  }
 },
 "nbformat": 4,
 "nbformat_minor": 2
}
