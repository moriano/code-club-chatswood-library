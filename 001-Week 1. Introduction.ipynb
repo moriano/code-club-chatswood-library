{
 "cells": [
  {
   "cell_type": "markdown",
   "metadata": {},
   "source": [
    "# Welcome!\n",
    "\n",
    "## Thanks for joining the code club. In the following weeks we will spend time explaining what programming is and you will get to write your own software.\n",
    "\n",
    "## By the end of this course you will be able to understand basic and intermediate programming concepts. \n",
    "\n",
    "## Oh, and you will also get to code your own videogame.\n",
    "\n",
    "\n",
    "# What is programming anyway?\n",
    "\n",
    "## Programming a computer consists on providing it with a set of instructions to execute. In order to do so we need a programming language. There are thousands of programming languages, here are some examples, maybe some of them are familiar to you\n",
    "\n",
    "1. Java\n",
    "2. Python\n",
    "3. C\n",
    "4. C++\n",
    "5. PHP\n",
    "6. Assembler\n",
    "7. Kotlin\n",
    "8. Pascal\n",
    "9. Fortran\n",
    "\n",
    "## Not all the programming languages are the same, but they are somewhat similar to each other. Once you learn one programming language, learning additional programming languages becomes easier.\n",
    "\n",
    "## We will be using python\n",
    "\n",
    "![alt text](01/python.png)\n"
   ]
  },
  {
   "cell_type": "markdown",
   "metadata": {},
   "source": [
    "# A brief history of python.\n",
    "\n",
    "##  Introduced in 1990. \n",
    "\n",
    "## Created originally by a Dutch developer named Guido van Rossum.\n",
    "\n",
    "## Simple yet powerful. It supports scripting programming, object orientation, threads, web development... \n",
    "\n",
    "## Pretty much every company you have heard of uses python in one way or another: Google, Amazon, Apple..."
   ]
  },
  {
   "cell_type": "markdown",
   "metadata": {},
   "source": [
    "# Before we proceed... \n",
    "\n",
    "## We will be using Jupyter notebooks for python programming. In jupyter notebooks there are two types of blocks (also called cells). \n",
    "\n",
    "## 1. Cells containing text, images and explanations in general.\n",
    "## 2. Cells containing python code: These are the ones we will use to write our code and execute it. To execute a code cell simply hold \"Shift\" key and then hit \"Enter\" key.\n",
    "\n",
    "# Word of advice: The best way to learn computer programming is by... coding, do as many exercises as you can, repeat them and I guarantee you that you will learn to code :)"
   ]
  },
  {
   "cell_type": "markdown",
   "metadata": {},
   "source": [
    "# Basics of programming: Statements.\n",
    "\n",
    "## Ultimately a software program is composed of a series of statements, each statement does one thing. The most basic statements are math operations, example\n",
    "\n",
    "## Remember, to execute a code cell, use Shift + Enter in your keyboard\n"
   ]
  },
  {
   "cell_type": "code",
   "execution_count": 28,
   "metadata": {},
   "outputs": [
    {
     "data": {
      "text/plain": [
       "8"
      ]
     },
     "execution_count": 28,
     "metadata": {},
     "output_type": "execute_result"
    }
   ],
   "source": [
    "3 + 5 "
   ]
  },
  {
   "cell_type": "code",
   "execution_count": 29,
   "metadata": {},
   "outputs": [
    {
     "data": {
      "text/plain": [
       "13"
      ]
     },
     "execution_count": 29,
     "metadata": {},
     "output_type": "execute_result"
    }
   ],
   "source": [
    "3 + 5 * 2"
   ]
  },
  {
   "cell_type": "code",
   "execution_count": 30,
   "metadata": {},
   "outputs": [
    {
     "data": {
      "text/plain": [
       "16"
      ]
     },
     "execution_count": 30,
     "metadata": {},
     "output_type": "execute_result"
    }
   ],
   "source": [
    "(3 + 5) * 2"
   ]
  },
  {
   "cell_type": "markdown",
   "metadata": {},
   "source": [
    "## Python can also operate with text, we just need to enclose our values with quotes"
   ]
  },
  {
   "cell_type": "code",
   "execution_count": 31,
   "metadata": {},
   "outputs": [
    {
     "data": {
      "text/plain": [
       "'helloworld'"
      ]
     },
     "execution_count": 31,
     "metadata": {},
     "output_type": "execute_result"
    }
   ],
   "source": [
    "\"hello\" + \"world\""
   ]
  },
  {
   "cell_type": "markdown",
   "metadata": {},
   "source": [
    "## Computers need to receive specific instructions, if the instructions are not clear, they will fail."
   ]
  },
  {
   "cell_type": "code",
   "execution_count": 32,
   "metadata": {},
   "outputs": [
    {
     "ename": "TypeError",
     "evalue": "unsupported operand type(s) for +: 'int' and 'str'",
     "output_type": "error",
     "traceback": [
      "\u001b[0;31m---------------------------------------------------------------------------\u001b[0m",
      "\u001b[0;31mTypeError\u001b[0m                                 Traceback (most recent call last)",
      "\u001b[0;32m<ipython-input-32-d3d9f9fbcff3>\u001b[0m in \u001b[0;36m<module>\u001b[0;34m\u001b[0m\n\u001b[0;32m----> 1\u001b[0;31m \u001b[0;36m5\u001b[0m \u001b[0;34m+\u001b[0m \u001b[0;34m\"bananas\"\u001b[0m\u001b[0;34m\u001b[0m\u001b[0;34m\u001b[0m\u001b[0m\n\u001b[0m",
      "\u001b[0;31mTypeError\u001b[0m: unsupported operand type(s) for +: 'int' and 'str'"
     ]
    }
   ],
   "source": [
    "5 + \"bananas\""
   ]
  },
  {
   "cell_type": "markdown",
   "metadata": {},
   "source": [
    "## As you can see from the error above, python does not know how to add 5 to \"bananas\" (can anybody really? :) so it fails inmediatly and tells you why it could not proceed. "
   ]
  },
  {
   "cell_type": "code",
   "execution_count": 33,
   "metadata": {},
   "outputs": [
    {
     "ename": "ZeroDivisionError",
     "evalue": "division by zero",
     "output_type": "error",
     "traceback": [
      "\u001b[0;31m---------------------------------------------------------------------------\u001b[0m",
      "\u001b[0;31mZeroDivisionError\u001b[0m                         Traceback (most recent call last)",
      "\u001b[0;32m<ipython-input-33-adafc2937013>\u001b[0m in \u001b[0;36m<module>\u001b[0;34m\u001b[0m\n\u001b[0;32m----> 1\u001b[0;31m \u001b[0;36m5\u001b[0m \u001b[0;34m/\u001b[0m \u001b[0;36m0\u001b[0m\u001b[0;34m\u001b[0m\u001b[0;34m\u001b[0m\u001b[0m\n\u001b[0m",
      "\u001b[0;31mZeroDivisionError\u001b[0m: division by zero"
     ]
    }
   ],
   "source": [
    "5 / 0"
   ]
  },
  {
   "cell_type": "markdown",
   "metadata": {},
   "source": [
    "## Always pay attention to error messages, they are your best allies when trying to understand what is going on!"
   ]
  },
  {
   "cell_type": "markdown",
   "metadata": {},
   "source": [
    "# Data types\n",
    "\n",
    "## Python allows you to operate with 3 basic data types.\n",
    "\n",
    "### 1. Numbers\n",
    "### 2. Text (we developers refer to them as \"Strings\")\n",
    "### 3. Booleans (a boolean is something that can either be True or False)\n",
    "\n",
    "## Do not try to mix the data types, as python will not know how to deal with that. "
   ]
  },
  {
   "cell_type": "code",
   "execution_count": 34,
   "metadata": {},
   "outputs": [
    {
     "data": {
      "text/plain": [
       "24"
      ]
     },
     "execution_count": 34,
     "metadata": {},
     "output_type": "execute_result"
    }
   ],
   "source": [
    "3 * 8"
   ]
  },
  {
   "cell_type": "code",
   "execution_count": 35,
   "metadata": {},
   "outputs": [
    {
     "data": {
      "text/plain": [
       "'something   else'"
      ]
     },
     "execution_count": 35,
     "metadata": {},
     "output_type": "execute_result"
    }
   ],
   "source": [
    "\"something\" + \"   \" + \"else\""
   ]
  },
  {
   "cell_type": "code",
   "execution_count": 36,
   "metadata": {},
   "outputs": [
    {
     "data": {
      "text/plain": [
       "True"
      ]
     },
     "execution_count": 36,
     "metadata": {},
     "output_type": "execute_result"
    }
   ],
   "source": [
    "True and True"
   ]
  },
  {
   "cell_type": "markdown",
   "metadata": {},
   "source": [
    "# Operators\n",
    "\n",
    "## Python allows several types of operators\n",
    "\n",
    "### 1. \\+ Addition, if the operands are strings, it concatenates them\n",
    "### 2. \\- Substraction.\n",
    "### 3. \\* Multiplication\n",
    "### 4. ** Exponentiation\n",
    "### 5. % modulus"
   ]
  },
  {
   "cell_type": "code",
   "execution_count": 37,
   "metadata": {},
   "outputs": [
    {
     "data": {
      "text/plain": [
       "8"
      ]
     },
     "execution_count": 37,
     "metadata": {},
     "output_type": "execute_result"
    }
   ],
   "source": [
    "3 + 5"
   ]
  },
  {
   "cell_type": "code",
   "execution_count": 38,
   "metadata": {},
   "outputs": [
    {
     "data": {
      "text/plain": [
       "'One text... another text'"
      ]
     },
     "execution_count": 38,
     "metadata": {},
     "output_type": "execute_result"
    }
   ],
   "source": [
    "\"One text\" + \"... another text\""
   ]
  },
  {
   "cell_type": "code",
   "execution_count": 39,
   "metadata": {},
   "outputs": [
    {
     "data": {
      "text/plain": [
       "-2"
      ]
     },
     "execution_count": 39,
     "metadata": {},
     "output_type": "execute_result"
    }
   ],
   "source": [
    "3 - 5"
   ]
  },
  {
   "cell_type": "code",
   "execution_count": 1,
   "metadata": {},
   "outputs": [
    {
     "data": {
      "text/plain": [
       "15"
      ]
     },
     "execution_count": 1,
     "metadata": {},
     "output_type": "execute_result"
    }
   ],
   "source": [
    "3 * 5 "
   ]
  },
  {
   "cell_type": "code",
   "execution_count": 2,
   "metadata": {},
   "outputs": [
    {
     "data": {
      "text/plain": [
       "1"
      ]
     },
     "execution_count": 2,
     "metadata": {},
     "output_type": "execute_result"
    }
   ],
   "source": [
    "5 % 2 "
   ]
  },
  {
   "cell_type": "markdown",
   "metadata": {},
   "source": [
    "### `2**3` is the equivalent to $2^3$"
   ]
  },
  {
   "cell_type": "code",
   "execution_count": 41,
   "metadata": {},
   "outputs": [
    {
     "data": {
      "text/plain": [
       "8"
      ]
     },
     "execution_count": 41,
     "metadata": {},
     "output_type": "execute_result"
    }
   ],
   "source": [
    "2 ** 3"
   ]
  },
  {
   "cell_type": "markdown",
   "metadata": {},
   "source": [
    "## By the way, python supports huuuge numbers, as long as your computer has enough memory to run them. For example $ 454^{899} $"
   ]
  },
  {
   "cell_type": "code",
   "execution_count": 42,
   "metadata": {},
   "outputs": [
    {
     "data": {
      "text/plain": [
       "4934142847700983979329210732963436250166952057036803179173098323049534040385307510983184965280533351318262237392308836849552172373862762693611807156567139254046347495989425195421333008353954065391154787551013354423792196123039968603961646569070916476636639967859961744464026009959238702872191326869851171885734465324721624476383749440475406802055424938278984998432432588808329583690625198097418986103008139016916311963203020833138382489724727825718732308161616226274731915449763490581268628176419365162740067720354891028280878635485929694634318993776659518054474364904077461015081380394317980897765766999860724109123686184137590720235306778086465236411598413035423352856765099262619619927871170791287307385091716759380019691578593766034203477462336775990425737791179024130258396064673860476293788975882323564137959410167652598149254185356951092687875578846942958048583606942232855146239216947499726837952419066477940695511170471422453728243889952777121491940813044624669863982550685364849480872375300705303836080123642791555598142785598729909655259267976221535867008436512982933404666147889655266139261040895180108314840919248064118610856746693152480838116907607183469491983013378874965380586656882681565448886907047778720553705165187710218865795560986581192853742777176399496823171795636033610090477979860700524434668973819251049996297336737040590080513943547266203185299387676130200593282027455535119317899525465785064396308724491771954975043208254692929627901010760971092998767432429131701712943764683622859617711023021179540861619247336906436776743421953040882148124515921856565716918599436766143752813000867687475599115381825679163003944082634100701885329790326957934636855942161449512699482730405864547398709638802358580963656390519854581838762651449872873360849285687638825813589719160267043151103109895440922428473429981754727291199960919656903863546617001041468368014162451898762071799011473743253173017932215070177153391232115936519442289871279704864409499453781590195724602614662863730285788737415890008893798624999525699632372941046616054905573202168668328292740665451997192817586733164422574332333552250072500339458204515408622816891899818131419097546599684946930665598037566845246803328317855276118090933802047532173649007281608581421253074504332936308907012187509146580105569237010989020726241459483184375609338816410668486614247369249348644696704737878134248972813172998144"
      ]
     },
     "execution_count": 42,
     "metadata": {},
     "output_type": "execute_result"
    }
   ],
   "source": [
    "454 ** 899"
   ]
  },
  {
   "cell_type": "markdown",
   "metadata": {},
   "source": [
    "# Variables... \n",
    "# ... or why developers are fine with expressions like \n",
    "\n",
    "# $$x = x + 5$$\n",
    "\n",
    "## Statemens are the bread and butter of programming... but they are boring, we cannot do much with that.\n",
    "\n",
    "## Fortunately we can store numbers, strings and booleans in variables and store them. \n",
    "\n",
    "## Can you try to guess what this code do?\n",
    "\n",
    "```python\n",
    "a = 17\n",
    "b = 5\n",
    "\n",
    "a + b\n",
    "```"
   ]
  },
  {
   "cell_type": "code",
   "execution_count": 43,
   "metadata": {},
   "outputs": [],
   "source": [
    "# Write the code here and execute it, can you guess the output?\n"
   ]
  },
  {
   "cell_type": "markdown",
   "metadata": {},
   "source": [
    "### What about this?\n",
    "\n",
    "```python\n",
    "a = 2\n",
    "b = 3\n",
    "c = a + 5\n",
    "d = c - b\n",
    "```"
   ]
  },
  {
   "cell_type": "code",
   "execution_count": 44,
   "metadata": {},
   "outputs": [],
   "source": [
    "# Write the code here and execute it\n"
   ]
  },
  {
   "cell_type": "markdown",
   "metadata": {},
   "source": [
    "### By default block cells will automatically output the result of the last statement. But our last statement stores the value of an operation in a variable, so it does not get automatically printed to output.\n",
    "\n",
    "### We need to tell python to show the values of our variables, lets introduce our first programming function\n",
    "\n",
    "`print()`"
   ]
  },
  {
   "cell_type": "markdown",
   "metadata": {},
   "source": [
    "```python\n",
    "a = 2\n",
    "b = 3\n",
    "c = a + 5\n",
    "d = c - b\n",
    "print(f\"a={a} b={b} c={c} d={d}\")\n",
    "```"
   ]
  },
  {
   "cell_type": "code",
   "execution_count": 45,
   "metadata": {},
   "outputs": [],
   "source": [
    "# Write the code here and execute it\n"
   ]
  },
  {
   "cell_type": "markdown",
   "metadata": {},
   "source": [
    "### So why developers say that $x = x + 5$ is ok? In python = means assign a value, it is not indicate that something is equal to something else!\n",
    "\n",
    "```python\n",
    "x = 3\n",
    "x = x + 5\n",
    "print(f\"x is {x}\")\n",
    "```"
   ]
  },
  {
   "cell_type": "code",
   "execution_count": 46,
   "metadata": {},
   "outputs": [],
   "source": [
    "# Write the code here and execute it\n"
   ]
  },
  {
   "cell_type": "markdown",
   "metadata": {},
   "source": [
    "### Variables can hold any type of data, not only numbers.\n",
    "\n",
    "```python\n",
    "name = \"Peter\"\n",
    "surname = \"Smith\"\n",
    "\n",
    "print(\"The name is {name} and the last name is {surname}\")\n",
    "```"
   ]
  },
  {
   "cell_type": "code",
   "execution_count": 47,
   "metadata": {},
   "outputs": [],
   "source": [
    "# Write the code here and execute it\n"
   ]
  },
  {
   "cell_type": "markdown",
   "metadata": {},
   "source": [
    "### Let's do something a bit more complex.\n",
    "\n",
    "### Say you want to buy a videogame, it costs 65\\$ but if you wait a month, there will be a discount of 35\\%, how much money would you save?\n",
    "\n",
    "```python\n",
    "price = 65\n",
    "discount_percentage = 35\n",
    "discounted_price = price - ((price * discount_percentage) / 100)\n",
    "print(f\"Normal cost {price} . Discounted price {discounted_price}\")\n",
    "```"
   ]
  },
  {
   "cell_type": "code",
   "execution_count": 48,
   "metadata": {},
   "outputs": [],
   "source": [
    "# Write the code here and execute it\n"
   ]
  },
  {
   "cell_type": "markdown",
   "metadata": {},
   "source": [
    "### Another exercise. Lets say that a car cost $15,400\\$$ if paid in cash, but if the customer asks for a loan, then they will have to pay $3\\%$ in interest, what would be the extra cost if the customer buys it using a loan?"
   ]
  },
  {
   "cell_type": "code",
   "execution_count": 3,
   "metadata": {},
   "outputs": [],
   "source": [
    "# Solve the problem from above\n"
   ]
  },
  {
   "cell_type": "markdown",
   "metadata": {},
   "source": [
    "\n",
    "\n",
    "## A complex exercise: automating second degree equations. \n",
    "## A second degree equation is defined as $ ax^2 + bx + c = 0 $\n",
    "\n",
    "## For example $ 4x^2 + 5x + 1 $\n",
    "\n",
    "\n",
    "## The formula to solve such equations is  $ x = \\frac{-b \\pm \\sqrt{b^2 - 4ac}}{2a}$\n",
    "\n",
    "### For our example we will assume $a=4, b=5, c=1$\n",
    "\n",
    "### Lets do this in parts.\n",
    "\n",
    "### a, b and c are already given to us\n",
    "\n",
    "```python\n",
    "a = 4\n",
    "b = 5\n",
    "c = 1\n",
    "```\n"
   ]
  },
  {
   "cell_type": "code",
   "execution_count": 49,
   "metadata": {},
   "outputs": [],
   "source": [
    "# Write the code here and execute it\n"
   ]
  },
  {
   "cell_type": "markdown",
   "metadata": {},
   "source": [
    "## The term $\\sqrt{b^2 - 4ac}$  is the tricky one here \n",
    "\n",
    "## in python there is already a function for calculating $\\sqrt{x}$ it is called `sqrt(x)`\n",
    "\n",
    "```python\n",
    "from math import sqrt\n",
    "top_square_root = sqrt(b**2 - 4*a*c)\n",
    "```\n",
    "\n",
    "## Wait!! what is that `from math import sqrt` thing?? => For now just trust me, we will get into that later."
   ]
  },
  {
   "cell_type": "code",
   "execution_count": 50,
   "metadata": {},
   "outputs": [],
   "source": [
    "# Write the code here and execute it\n"
   ]
  },
  {
   "cell_type": "markdown",
   "metadata": {},
   "source": [
    "### We are almost done, now we just have to calculate the full solution!\n",
    "\n",
    "```python\n",
    "solution_1 = (-b + top_square_root) / (2*a) \n",
    "solution_2 = (-b - top_square_root) / (2*a) \n",
    "print(f\"Solutions are {solution_1} and {solution_2}\")\n",
    "```"
   ]
  },
  {
   "cell_type": "code",
   "execution_count": 51,
   "metadata": {},
   "outputs": [],
   "source": [
    "# Write the code here and execute it\n"
   ]
  },
  {
   "cell_type": "markdown",
   "metadata": {},
   "source": [
    "### Lets put it all in one go\n",
    "\n",
    "```python\n",
    "a = 4\n",
    "b = 5\n",
    "c = 1\n",
    "top_square_root = sqrt(b**2 - 4*a*c)\n",
    "solution_1 = (-b + top_square_root) / (2*a) \n",
    "solution_2 = (-b - top_square_root) / (2*a) \n",
    "print(f\"Solutions are {solution_1} and {solution_2}\")\n",
    "```"
   ]
  },
  {
   "cell_type": "code",
   "execution_count": 52,
   "metadata": {},
   "outputs": [],
   "source": [
    "# Write the code here and execute it, try modifying to values of a, b, and c. Does the code break sometimes?\n",
    "\n"
   ]
  },
  {
   "cell_type": "markdown",
   "metadata": {},
   "source": [
    "# Exercise 1.\n",
    "\n",
    "## Write an algorithm where you define two variables: `x` and `y` and you print\n",
    "\n",
    "> ## Value of x = 5, value of y = 7"
   ]
  },
  {
   "cell_type": "code",
   "execution_count": 2,
   "metadata": {},
   "outputs": [
    {
     "name": "stdout",
     "output_type": "stream",
     "text": [
      "Value of x = 5, value of y = 7\n"
     ]
    }
   ],
   "source": [
    "x = 5\n",
    "y = 7\n",
    "print(f\"Value of x = {x}, value of y = {y}\")"
   ]
  },
  {
   "cell_type": "markdown",
   "metadata": {},
   "source": [
    "# Exercise 2.\n",
    "\n",
    "## Calculate x + y - 12, store it into a variable and then print the result."
   ]
  },
  {
   "cell_type": "code",
   "execution_count": 3,
   "metadata": {},
   "outputs": [],
   "source": [
    "# Solve exercise 2\n"
   ]
  },
  {
   "cell_type": "markdown",
   "metadata": {},
   "source": [
    "# Exercise 3.\n",
    "\n",
    "## Let's imagine you are writing a shopping list software where you can define a number of products and their prices. \n",
    "\n",
    "## Each product has a name and a price, for example Bread will cost 3.5$\n",
    "\n",
    "# Write an algorithm where we define 3 products with their prices. \n",
    "\n",
    "```python\n",
    "product_1_name = \"bread\"\n",
    "product_1_price = 3.5\n",
    "\n",
    "product_2_name = \"Cheese\"\n",
    "product_2_price = 7.8\n",
    "\n",
    "product_3_name = \"Milk\"\n",
    "product_3_price = 1.25\n",
    "```\n",
    "\n",
    "## After that, declare variables indicating the amount of products 1, 2 and 3 a customer has purchased\n",
    "\n",
    "```python\n",
    "product_1_amount = 4\n",
    "product_2_amount = 2\n",
    "product_3_amount = 7\n",
    "```\n",
    "\n",
    "## Finally, write code to produce a report with the cost of the shopping.\n",
    "\n",
    "```python\n",
    "product_1_total = product_1_price * product_1_amount\n",
    "product_2_total = product_2_price * product_2_amount\n",
    "product_3_total = product_3_price * product_3_amount\n",
    "total = product_1_total + product_2_total + product_3_total\n",
    "\n",
    "print(\"----------------------------------------\")\n",
    "print(f\"{product_1_name} total = {product_1_total}\")\n",
    "print(f\"{product_2_name} total = {product_2_total}\")\n",
    "print(f\"{product_3_name} total = {product_3_total}\")\n",
    "print(f\"Total = {total}\")\n",
    "print(\"----------------------------------------\")\n",
    "```"
   ]
  },
  {
   "cell_type": "code",
   "execution_count": 9,
   "metadata": {},
   "outputs": [],
   "source": [
    "# Write the code from above and execute it\n"
   ]
  },
  {
   "cell_type": "markdown",
   "metadata": {},
   "source": [
    "# Exercise 4\n",
    "\n",
    "## Bill split. Imagine you and your friends have gone for a coffee. There are 5 people in total, some had coffee, some had tea and everybody had a banana bread. \n",
    "\n",
    "## The price for cofee is 4.5\\\\$  tea it is 4\\\\and for banana bread is 3.8\\\\$.\n",
    "\n",
    "## Write an algorithm where you calculate the total cost and the amount to pay per person (every person pays the same amount of money, simply divide by 5."
   ]
  },
  {
   "cell_type": "code",
   "execution_count": 8,
   "metadata": {},
   "outputs": [],
   "source": [
    "# Solve the exercise here\n"
   ]
  },
  {
   "cell_type": "markdown",
   "metadata": {},
   "source": [
    "# Exercise 4 follow up. \n",
    "\n",
    "## In Australia there is a tax named GST which is 10%. This means that when you spend 100\\\\$ there are 10\\\\$ that are tax. \n",
    "\n",
    "## Can you modify the algorithm from exercise 4 to also indicate what amount of tax has to be paid?"
   ]
  },
  {
   "cell_type": "code",
   "execution_count": 10,
   "metadata": {},
   "outputs": [],
   "source": [
    "# Solve the exercise here\n"
   ]
  },
  {
   "cell_type": "code",
   "execution_count": null,
   "metadata": {},
   "outputs": [],
   "source": []
  }
 ],
 "metadata": {
  "kernelspec": {
   "display_name": "Python 3",
   "language": "python",
   "name": "python3"
  },
  "language_info": {
   "codemirror_mode": {
    "name": "ipython",
    "version": 3
   },
   "file_extension": ".py",
   "mimetype": "text/x-python",
   "name": "python",
   "nbconvert_exporter": "python",
   "pygments_lexer": "ipython3",
   "version": "3.7.3"
  }
 },
 "nbformat": 4,
 "nbformat_minor": 2
}
