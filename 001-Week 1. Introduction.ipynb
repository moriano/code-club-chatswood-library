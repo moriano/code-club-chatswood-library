{
 "cells": [
  {
   "cell_type": "markdown",
   "metadata": {},
   "source": [
    "# Welcome!\n",
    "\n",
    "## Thanks for joining the code club. In the following weeks we will spend time explaining what programming is and you will get to write your own software.\n",
    "\n",
    "## By the end of this course you will be able to understand basic and intermediate programming concepts. \n",
    "\n",
    "## Oh, and you will also get to code your own videogame.\n",
    "\n",
    "\n",
    "# What is programming anyway?\n",
    "\n",
    "## Programming a computer consists on providing it with a set of instructions to execute. In order to do so we need a programming language. There are thousands of programming languages, here are some examples, maybe some of them are familiar to you\n",
    "\n",
    "1. Java\n",
    "2. Python\n",
    "3. C\n",
    "4. C++\n",
    "5. PHP\n",
    "6. Assembler\n",
    "7. Kotlin\n",
    "8. Pascal\n",
    "9. Fortran\n",
    "\n",
    "## Not all the programming languages are the same, but they are somewhat similar to each other. Once you learn one programming language, learning additional programming languages becomes easier.\n",
    "\n",
    "## We will be using python\n",
    "\n",
    "![alt text](01/python.png)\n"
   ]
  },
  {
   "cell_type": "markdown",
   "metadata": {},
   "source": [
    "# A brief history of python.\n",
    "\n",
    "##  Introduced in 1990. \n",
    "\n",
    "## Created originally by a Dutch developer named Guido van Rossum.\n",
    "\n",
    "## Simple yet powerful. It supports scripting programming, object orientation, threads, web development... \n",
    "\n",
    "## Pretty much every company you have heard of uses python in one way or another: Google, Amazon, Apple..."
   ]
  },
  {
   "cell_type": "markdown",
   "metadata": {},
   "source": [
    "# Before we proceed... \n",
    "\n",
    "## We will be using Jupyter notebooks for python programming. In jupyter notebooks there are two types of blocks (also called cells). \n",
    "\n",
    "## 1. Cells containing text, images and explanations in general.\n",
    "## 2. Cells containing python code: These are the ones we will use to write our code and execute it. To execute a code cell simply hold \"Shift\" key and then hit \"Enter\" key.\n",
    "\n",
    "# Word of advice: The best way to learn computer programming is by... coding, do as many exercises as you can, repeat them and I guarantee you that you will learn to code :)"
   ]
  },
  {
   "cell_type": "markdown",
   "metadata": {},
   "source": [
    "# Basics of programming: Statements.\n",
    "\n",
    "## Ultimately a software program is composed of a series of statements, each statement does one thing. The most basic statements are math operations, example\n",
    "\n",
    "## Remember, to execute a code cell, use Shift + Enter in your keyboard\n"
   ]
  },
  {
   "cell_type": "code",
   "execution_count": null,
   "metadata": {},
   "outputs": [],
   "source": [
    "# Execute this cell, can you guess what it will output?\n",
    "3 + 5 "
   ]
  },
  {
   "cell_type": "markdown",
   "metadata": {},
   "source": [
    "## By default a code cell will output the result of its last operation"
   ]
  },
  {
   "cell_type": "code",
   "execution_count": null,
   "metadata": {},
   "outputs": [],
   "source": [
    "# Execute this cell, can you guess what it will output?\n",
    "3 + 5 * 2"
   ]
  },
  {
   "cell_type": "code",
   "execution_count": null,
   "metadata": {},
   "outputs": [],
   "source": [
    "# Execute this cell, can you guess what it will output?\n",
    "(3 + 5) * 2"
   ]
  },
  {
   "cell_type": "markdown",
   "metadata": {},
   "source": [
    "## Python can also operate with text, we just need to enclose our values with quotes"
   ]
  },
  {
   "cell_type": "code",
   "execution_count": null,
   "metadata": {},
   "outputs": [],
   "source": [
    "# Execute this cell, can you guess what it will output?\n",
    "\"hello\" + \"world\""
   ]
  },
  {
   "cell_type": "markdown",
   "metadata": {},
   "source": [
    "## Important: This means that \"5\" will represent a text for python and 5 represents a number. Remember this!"
   ]
  },
  {
   "cell_type": "markdown",
   "metadata": {},
   "source": [
    "## Computers need to receive specific instructions, if the instructions are not clear, they will fail."
   ]
  },
  {
   "cell_type": "code",
   "execution_count": null,
   "metadata": {},
   "outputs": [],
   "source": [
    "# Execute this cell, what do you think could happen\n",
    "5 + \"bananas\""
   ]
  },
  {
   "cell_type": "markdown",
   "metadata": {},
   "source": [
    "## As you can see from the error above, python does not know how to add 5 to \"bananas\" (can anybody really? :) so it fails inmediatly and tells you why it could not proceed. "
   ]
  },
  {
   "cell_type": "code",
   "execution_count": null,
   "metadata": {},
   "outputs": [],
   "source": [
    "# Execute this cell, what happens when we try to execute an invalid operation?\n",
    "5 / 0"
   ]
  },
  {
   "cell_type": "markdown",
   "metadata": {},
   "source": [
    "## Always pay attention to error messages, they are your best allies when trying to understand what is going on! The will indicate the line and place where the error occurred."
   ]
  },
  {
   "cell_type": "markdown",
   "metadata": {},
   "source": [
    "# Data types\n",
    "\n",
    "## Python allows you to operate with 3 basic data types.\n",
    "\n",
    "### 1. Numbers\n",
    "### 2. Text (we developers refer to them as \"Strings\")\n",
    "### 3. Booleans (a boolean is something that can either be True or False)\n",
    "\n",
    "## Do not try to mix the data types, as python will not know how to deal with that. "
   ]
  },
  {
   "cell_type": "code",
   "execution_count": null,
   "metadata": {},
   "outputs": [],
   "source": [
    "3 * 8"
   ]
  },
  {
   "cell_type": "code",
   "execution_count": null,
   "metadata": {},
   "outputs": [],
   "source": [
    "\"something\" + \"   \" + \"else\""
   ]
  },
  {
   "cell_type": "code",
   "execution_count": null,
   "metadata": {},
   "outputs": [],
   "source": [
    "True and True"
   ]
  },
  {
   "cell_type": "markdown",
   "metadata": {},
   "source": [
    "# Operators\n",
    "\n",
    "## Python allows several types of operators\n",
    "\n",
    "### 1. \\+ Addition, if the operands are strings, it concatenates them\n",
    "### 2. \\- Substraction.\n",
    "### 3. \\* Multiplication\n",
    "### 4. ** Exponentiation\n",
    "### 5. % modulus"
   ]
  },
  {
   "cell_type": "code",
   "execution_count": null,
   "metadata": {},
   "outputs": [],
   "source": [
    "3 + 5"
   ]
  },
  {
   "cell_type": "code",
   "execution_count": null,
   "metadata": {},
   "outputs": [],
   "source": [
    "\"One text\" + \"... another text\""
   ]
  },
  {
   "cell_type": "code",
   "execution_count": null,
   "metadata": {},
   "outputs": [],
   "source": [
    "3 - 5"
   ]
  },
  {
   "cell_type": "code",
   "execution_count": null,
   "metadata": {},
   "outputs": [],
   "source": [
    "3 * 5 "
   ]
  },
  {
   "cell_type": "code",
   "execution_count": null,
   "metadata": {},
   "outputs": [],
   "source": [
    "5 % 2 "
   ]
  },
  {
   "cell_type": "markdown",
   "metadata": {},
   "source": [
    "### `2**3` is the equivalent to $2^3$"
   ]
  },
  {
   "cell_type": "code",
   "execution_count": null,
   "metadata": {},
   "outputs": [],
   "source": [
    "2 ** 3"
   ]
  },
  {
   "cell_type": "markdown",
   "metadata": {},
   "source": [
    "## By the way, python supports huuuge numbers, as long as your computer has enough memory to run them. For example $ 454^{899} $"
   ]
  },
  {
   "cell_type": "code",
   "execution_count": null,
   "metadata": {},
   "outputs": [],
   "source": [
    "454 ** 899"
   ]
  },
  {
   "cell_type": "markdown",
   "metadata": {},
   "source": [
    "# Variables... \n",
    "# ... or why developers are fine with expressions like \n",
    "\n",
    "# $$x = x + 5$$\n",
    "\n",
    "## Statemens are the bread and butter of programming... but they are boring, we cannot do much with that.\n",
    "\n",
    "## Fortunately we can store numbers, strings and booleans in variables and store them. \n",
    "\n",
    "## Can you try to guess what this code do?\n",
    "\n",
    "```python\n",
    "a = 17\n",
    "b = 5\n",
    "\n",
    "a + b\n",
    "```"
   ]
  },
  {
   "cell_type": "code",
   "execution_count": null,
   "metadata": {},
   "outputs": [],
   "source": [
    "# Write the code here and execute it, can you guess the output?\n"
   ]
  },
  {
   "cell_type": "markdown",
   "metadata": {},
   "source": [
    "## Important take away: In python (and in most of the programming languages) the symbol $=$ does not refer to equality (as it does in mathematics). It indicates to assign a value to something."
   ]
  },
  {
   "cell_type": "markdown",
   "metadata": {},
   "source": [
    "### What about this?\n",
    "\n",
    "```python\n",
    "a = 2\n",
    "b = 3\n",
    "c = a + 5\n",
    "d = c - b\n",
    "```"
   ]
  },
  {
   "cell_type": "code",
   "execution_count": null,
   "metadata": {},
   "outputs": [],
   "source": [
    "# Write the code here and execute it... notice that the last statement assigns a value...\n"
   ]
  },
  {
   "cell_type": "markdown",
   "metadata": {},
   "source": [
    "### By default block cells will automatically output the result of the last statement. But our last statement stores the value of an operation in a variable, so it does not get automatically printed to output.\n",
    "\n",
    "### We need to tell python to show the values of our variables, lets introduce our first programming function\n",
    "\n",
    "`print()`\n",
    "\n",
    "### For now assume that the way `print()` works is by doing this `print(f\"The value of variable a is {a}\")` adding the `f` before the quotes is important!"
   ]
  },
  {
   "cell_type": "markdown",
   "metadata": {},
   "source": [
    "```python\n",
    "a = 2\n",
    "b = 3\n",
    "c = a + 5\n",
    "d = c - b\n",
    "print(f\"a={a} b={b} c={c} d={d}\")\n",
    "```"
   ]
  },
  {
   "cell_type": "code",
   "execution_count": null,
   "metadata": {},
   "outputs": [],
   "source": [
    "# Write the code here and execute it\n"
   ]
  },
  {
   "cell_type": "markdown",
   "metadata": {},
   "source": [
    "### So why developers say that $x = x + 5$ is ok? In python $=$ means assign a value, it is not indicate that something is equal to something else!\n",
    "\n",
    "```python\n",
    "x = 3\n",
    "x = x + 5\n",
    "print(f\"x is {x}\")\n",
    "```"
   ]
  },
  {
   "cell_type": "code",
   "execution_count": null,
   "metadata": {},
   "outputs": [],
   "source": [
    "# Write the code here and execute it, what will it print?\n"
   ]
  },
  {
   "cell_type": "markdown",
   "metadata": {},
   "source": [
    "### Variables can hold any type of data, not only numbers.\n",
    "\n",
    "```python\n",
    "name = \"Peter\"\n",
    "surname = \"Smith\"\n",
    "\n",
    "print(\"The name is {name} and the last name is {surname}\")\n",
    "```"
   ]
  },
  {
   "cell_type": "code",
   "execution_count": null,
   "metadata": {},
   "outputs": [],
   "source": [
    "# Write the code here and execute it, what will it print?\n"
   ]
  },
  {
   "cell_type": "markdown",
   "metadata": {},
   "source": [
    "### Let's do something a bit more complex. This is very similar to math problems from school/high school.\n",
    "\n",
    "### Say you want to buy a videogame, it costs 65$ but if you wait a month, there will be a discount of 35\\%, how much money would you save?\n",
    "\n",
    "### Programming is a lot about modelling problems, here is an example on how to model the problem. Remember that we can calculate a % with a rule of three. \n",
    "\n",
    "\n",
    "$$\n",
    "\\text{Rule of three}\n",
    "$$\n",
    "\n",
    "$$\n",
    "\\begin{align*}\n",
    "& 100 \\,\\rule[2.5pt]{16pt}{0.5pt}\\,35\\\\\n",
    "& 65 \\,\\rule[2.5pt]{16pt}{0.5pt}\\,\\text{discount}\n",
    "\\end{align*}\n",
    "$$\n",
    "\n",
    "$$\n",
    "discount = \\frac{65*35}{100}\n",
    "$$\n",
    "\n",
    "```python\n",
    "price = 65\n",
    "discount_percentage = 35\n",
    "discounted_price = price - ((price * discount_percentage) / 100)\n",
    "print(f\"Normal cost {price} . Discounted price {discounted_price}\")\n",
    "```"
   ]
  },
  {
   "cell_type": "code",
   "execution_count": null,
   "metadata": {},
   "outputs": [],
   "source": [
    "# Write the code here and execute it, do you understand what it does?\n"
   ]
  },
  {
   "cell_type": "markdown",
   "metadata": {},
   "source": [
    "### Another exercise. Lets say that a car cost $15,400\\$$ if paid in cash, but if the customer asks for a loan, then they will have to pay $3\\%$ in interest, what would be the extra cost if the customer buys it using a loan? \n",
    "\n",
    "### Print: \n",
    "\n",
    "1. The cost of the car if paid directly in cash. \n",
    "2. The cost of the car when asking for a loan.\n",
    "3. the difference between paying it in cash and paying it using a loan."
   ]
  },
  {
   "cell_type": "code",
   "execution_count": null,
   "metadata": {},
   "outputs": [],
   "source": [
    "# Solve the problem from above\n"
   ]
  },
  {
   "cell_type": "markdown",
   "metadata": {},
   "source": [
    "\n",
    "\n",
    "## A complex exercise: automating second degree equations. \n",
    "## A second degree equation is defined as $ ax^2 + bx + c = 0 $\n",
    "\n",
    "## For example $ 4x^2 + 5x + 1 $\n",
    "\n",
    "\n",
    "## The formula to solve such equations is  $ x = \\frac{-b \\pm \\sqrt{b^2 - 4ac}}{2a}$\n",
    "\n",
    "### For our example we will assume $a=4, b=5, c=1$\n",
    "\n",
    "### Lets do this in parts.\n",
    "\n",
    "### a, b and c are already given to us\n",
    "\n",
    "```python\n",
    "a = 4\n",
    "b = 5\n",
    "c = 1\n",
    "```\n"
   ]
  },
  {
   "cell_type": "code",
   "execution_count": null,
   "metadata": {},
   "outputs": [],
   "source": [
    "# Write the code here and execute it\n"
   ]
  },
  {
   "cell_type": "markdown",
   "metadata": {},
   "source": [
    "## The term $\\sqrt{b^2 - 4ac}$  is the tricky one here \n",
    "\n",
    "## in python there is already a function for calculating $\\sqrt{x}$ it is called `sqrt(x)`\n",
    "\n",
    "```python\n",
    "from math import sqrt\n",
    "top_square_root = sqrt(b**2 - 4*a*c)\n",
    "```\n",
    "\n",
    "## Wait!! what is that `from math import sqrt` thing?? => For now just trust me, we will get into that later."
   ]
  },
  {
   "cell_type": "code",
   "execution_count": null,
   "metadata": {},
   "outputs": [],
   "source": [
    "# Write the code here and execute it\n"
   ]
  },
  {
   "cell_type": "markdown",
   "metadata": {},
   "source": [
    "### We are almost done, now we just have to calculate the full solution!\n",
    "\n",
    "```python\n",
    "solution_1 = (-b + top_square_root) / (2*a) \n",
    "solution_2 = (-b - top_square_root) / (2*a) \n",
    "print(f\"Solutions are {solution_1} and {solution_2}\")\n",
    "```"
   ]
  },
  {
   "cell_type": "code",
   "execution_count": null,
   "metadata": {},
   "outputs": [],
   "source": [
    "# Write the code here and execute it\n"
   ]
  },
  {
   "cell_type": "markdown",
   "metadata": {},
   "source": [
    "### Lets put it all in one go\n",
    "\n",
    "```python\n",
    "a = 4\n",
    "b = 5\n",
    "c = 1\n",
    "top_square_root = sqrt(b**2 - 4*a*c)\n",
    "solution_1 = (-b + top_square_root) / (2*a) \n",
    "solution_2 = (-b - top_square_root) / (2*a) \n",
    "print(f\"Solutions are {solution_1} and {solution_2}\")\n",
    "```"
   ]
  },
  {
   "cell_type": "code",
   "execution_count": null,
   "metadata": {},
   "outputs": [],
   "source": [
    "# Write the code here and execute it, try modifying to values of a, b, and c. Does the code break sometimes?\n",
    "\n"
   ]
  },
  {
   "cell_type": "markdown",
   "metadata": {},
   "source": [
    "# Exercise 1.\n",
    "\n",
    "## Write an algorithm where you define two variables: `x` and `y` and you print\n",
    "\n",
    "> ## Value of x = 5, value of y = 7"
   ]
  },
  {
   "cell_type": "code",
   "execution_count": null,
   "metadata": {},
   "outputs": [],
   "source": [
    "x = 5\n",
    "y = 7\n",
    "print(f\"Value of x = {x}, value of y = {y}\")"
   ]
  },
  {
   "cell_type": "markdown",
   "metadata": {},
   "source": [
    "# Exercise 2.\n",
    "\n",
    "## Calculate x + y - 12, store it into a variable and then print the result."
   ]
  },
  {
   "cell_type": "code",
   "execution_count": null,
   "metadata": {},
   "outputs": [],
   "source": [
    "# Solve exercise 2\n"
   ]
  },
  {
   "cell_type": "markdown",
   "metadata": {},
   "source": [
    "# Exercise 3.\n",
    "\n",
    "## Let's imagine you are writing a shopping list software where you can define a number of products and their prices. \n",
    "\n",
    "## Each product has a name and a price, for example Bread will cost 3.5$\n",
    "\n",
    "# Write an algorithm where we define 3 products with their prices. \n",
    "\n",
    "```python\n",
    "product_1_name = \"bread\"\n",
    "product_1_price = 3.5\n",
    "\n",
    "product_2_name = \"Cheese\"\n",
    "product_2_price = 7.8\n",
    "\n",
    "product_3_name = \"Milk\"\n",
    "product_3_price = 1.25\n",
    "```\n",
    "\n",
    "## After that, declare variables indicating the amount of products 1, 2 and 3 a customer has purchased\n",
    "\n",
    "```python\n",
    "product_1_amount = 4\n",
    "product_2_amount = 2\n",
    "product_3_amount = 7\n",
    "```\n",
    "\n",
    "## Finally, write code to produce a report with the cost of the shopping.\n",
    "\n",
    "```python\n",
    "product_1_total = product_1_price * product_1_amount\n",
    "product_2_total = product_2_price * product_2_amount\n",
    "product_3_total = product_3_price * product_3_amount\n",
    "total = product_1_total + product_2_total + product_3_total\n",
    "\n",
    "print(\"----------------------------------------\")\n",
    "print(f\"{product_1_name} total = {product_1_total}\")\n",
    "print(f\"{product_2_name} total = {product_2_total}\")\n",
    "print(f\"{product_3_name} total = {product_3_total}\")\n",
    "print(f\"Total = {total}\")\n",
    "print(\"----------------------------------------\")\n",
    "```"
   ]
  },
  {
   "cell_type": "code",
   "execution_count": null,
   "metadata": {},
   "outputs": [],
   "source": [
    "# Write the code from above and execute it\n"
   ]
  },
  {
   "cell_type": "markdown",
   "metadata": {},
   "source": [
    "# Exercise 4\n",
    "\n",
    "## Bill split. Imagine you and your friends have gone for a coffee. There are 5 people in total, some had coffee, some had tea and everybody had a banana bread. \n",
    "\n",
    "## The price for cofee is 4.5$  tea it is 4 and for banana bread is 3.8$.\n",
    "\n",
    "## Let's assume that 1 person had tea and 4 people had coffee.\n",
    "\n",
    "## Write an algorithm where you calculate the total cost and the amount to pay per person (every person pays the same amount of money, simply divide by 5.\n",
    "\n",
    "## Store the total amount in a variable named `total`"
   ]
  },
  {
   "cell_type": "code",
   "execution_count": null,
   "metadata": {},
   "outputs": [],
   "source": [
    "# Solve the exercise here\n"
   ]
  },
  {
   "cell_type": "markdown",
   "metadata": {},
   "source": [
    "# Exercise 4 follow up. \n",
    "\n",
    "## In Australia there is a tax named GST which is 10%. This means that when you spend 100\\\\$ there are 10\\\\$ that are tax. \n",
    "\n",
    "## Can you modify the algorithm from exercise 4 to also indicate what amount of tax has to be paid? You can directly work the variable `total` in this cell."
   ]
  },
  {
   "cell_type": "code",
   "execution_count": null,
   "metadata": {},
   "outputs": [],
   "source": [
    "# Solve the exercise here\n"
   ]
  }
 ],
 "metadata": {
  "kernelspec": {
   "display_name": "Python 3",
   "language": "python",
   "name": "python3"
  },
  "language_info": {
   "codemirror_mode": {
    "name": "ipython",
    "version": 3
   },
   "file_extension": ".py",
   "mimetype": "text/x-python",
   "name": "python",
   "nbconvert_exporter": "python",
   "pygments_lexer": "ipython3",
   "version": "3.7.3"
  }
 },
 "nbformat": 4,
 "nbformat_minor": 2
}
