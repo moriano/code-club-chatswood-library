{
 "cells": [
  {
   "cell_type": "markdown",
   "metadata": {},
   "source": [
    "# Week 5. Functions. \n",
    "\n",
    "## Functions are among the most powerful capabilities of any language. \n",
    "\n",
    "## By using functions you can reuse code that other developers have already written. \n",
    "\n",
    "## Python has millions of functions, and you will learn how to reuse them.\n",
    "\n",
    "## What's a function? It is pretty similar to what you studied in mathematics in high school. \n",
    "\n",
    "# $$ f(x) = 3x + 2 $$\n",
    "\n",
    "## Is an example of a function. Lets define it in python.\n",
    "\n",
    "```python\n",
    "def f(x):\n",
    "    return 3*x + 2\n",
    "```"
   ]
  },
  {
   "cell_type": "code",
   "execution_count": null,
   "metadata": {},
   "outputs": [],
   "source": [
    "# Copy the code from above and execute it\n"
   ]
  },
  {
   "cell_type": "markdown",
   "metadata": {},
   "source": [
    "## Once we have defined our function, we can use it the following way\n",
    "\n",
    "```python\n",
    "result = f(4)\n",
    "print(result)\n",
    "```"
   ]
  },
  {
   "cell_type": "code",
   "execution_count": null,
   "metadata": {},
   "outputs": [],
   "source": [
    "# Copy the code from above and execute it, can you guess what it will print? \n"
   ]
  },
  {
   "cell_type": "markdown",
   "metadata": {},
   "source": [
    "## Let's show another example: We will write a function that will return whether a number is even or not.\n",
    "\n",
    "```python\n",
    "\n",
    "def is_even(number):\n",
    "    even = False\n",
    "    if number % 2 == 0:\n",
    "        even = True\n",
    "    else:\n",
    "        even = False\n",
    "        \n",
    "    return even\n",
    "\n",
    "# We can now use the function\n",
    "test_1 = is_even(7)\n",
    "print(test_1)\n",
    "\n",
    "test_2 = is_even(144)\n",
    "print(test_2)\n",
    "```"
   ]
  },
  {
   "cell_type": "code",
   "execution_count": null,
   "metadata": {},
   "outputs": [],
   "source": [
    "# Copy the code from above and execute it, can you guess what it will output?\n"
   ]
  },
  {
   "cell_type": "markdown",
   "metadata": {},
   "source": [
    "## Functions can receive multiple parameters. For example let's define a function that returns which number is bigger.\n",
    "\n",
    "```python\n",
    "def biggest(number_1, number_2):\n",
    "    result = number_1\n",
    "    if number_1 > number_2:\n",
    "        result = number_1\n",
    "    elif number_1 < number_2:\n",
    "        result = number_2\n",
    "        \n",
    "    return result\n",
    "\n",
    "a = 7\n",
    "b = 12\n",
    "c = 5\n",
    "\n",
    "result_1 = biggest(a, b)\n",
    "print(result_1)\n",
    "\n",
    "result_2 = biggest(c, a)\n",
    "print(result_2)\n",
    "```"
   ]
  },
  {
   "cell_type": "code",
   "execution_count": null,
   "metadata": {},
   "outputs": [],
   "source": [
    "# Execute the code from above, can you guess what it does? \n"
   ]
  },
  {
   "cell_type": "markdown",
   "metadata": {},
   "source": [
    "## Another example: We will write a function that will tell us whether a number is prime or not. \n",
    "\n",
    "```python\n",
    "def is_prime(number):\n",
    "    prime = True\n",
    "    for divisor in range(2, number):\n",
    "        if number % divisor == 0:\n",
    "            prime = False\n",
    "            break\n",
    "    return prime\n",
    "\n",
    "print(is_prime(7))\n",
    "print(is_prime(12))\n",
    "print(is_prime(35))\n",
    "print(is_prime(157))\n",
    "print(is_prime(15654646846546546546547))\n",
    "```"
   ]
  },
  {
   "cell_type": "code",
   "execution_count": null,
   "metadata": {},
   "outputs": [],
   "source": [
    "# Copy the code from above, can you guess what it prints? \n"
   ]
  },
  {
   "cell_type": "markdown",
   "metadata": {},
   "source": [
    "## Let's do an exercise. \n",
    "\n",
    "## The factorial of a number $n$ is defined as $n!$\n",
    "\n",
    "## To calculate $n!$ we simply do $n * (n-1) * (n-2) * (n-3) * ...  1$\n"
   ]
  },
  {
   "cell_type": "code",
   "execution_count": null,
   "metadata": {},
   "outputs": [],
   "source": [
    "def my_factorial(n):\n",
    "    result = 0\n",
    "    \n",
    "    # Solve the exercise here\n",
    "    \n",
    "    return result\n",
    "\n",
    "print(my_factorial(5))"
   ]
  },
  {
   "cell_type": "markdown",
   "metadata": {},
   "source": [
    "## Another exercise: Write a function that performs the following calculation for 100 times.\n",
    "\n",
    "## $ 1 + \\frac{1}{2} + \\frac{1}{3} + \\frac{1}{4} + \\frac{1}{5}  + \\frac{1}{6}  + . . . + \\frac{1}{100} $ \n",
    "\n",
    "## Return the value of the sum."
   ]
  },
  {
   "cell_type": "code",
   "execution_count": null,
   "metadata": {},
   "outputs": [],
   "source": [
    "def fractions():\n",
    "    result = 0\n",
    "    \n",
    "    # Solve the exercise here\n",
    "    \n",
    "    return result\n",
    "fractions()"
   ]
  },
  {
   "cell_type": "code",
   "execution_count": null,
   "metadata": {},
   "outputs": [],
   "source": [
    "def fractions():\n",
    "    result = 0\n",
    "    count = 1\n",
    "    while count <= 10**12:\n",
    "        result = result + (1/count)\n",
    "        count += 1\n",
    "    print(result)\n",
    "fractions()"
   ]
  },
  {
   "cell_type": "markdown",
   "metadata": {},
   "source": [
    "# Reusing built in python libraries.\n",
    "\n",
    "``` python\n",
    "my_list = [3, 5, -1, -15, 1245, -4544, 0, 17]\n",
    "sorted_list = sorted(my_list)\n",
    "print(sorted_list)\n",
    "```\n"
   ]
  },
  {
   "cell_type": "code",
   "execution_count": null,
   "metadata": {},
   "outputs": [],
   "source": [
    "# Execute the code from above, can you guess what it does?\n",
    "my_list = [3, 5, -1, -15, 1245, -4544, 0, 17]\n",
    "sorted_list = sorted(my_list)\n",
    "print(sorted_list)"
   ]
  },
  {
   "cell_type": "code",
   "execution_count": null,
   "metadata": {},
   "outputs": [],
   "source": []
  },
  {
   "cell_type": "markdown",
   "metadata": {},
   "source": [
    "### In this scenario we have reused the `sorted` function, that takes a list as a parameter and returns the same list but sorted. \n",
    "\n",
    "### The `sorted` function is what we call a built-in function: It comes bundled with the language and we do not have to do anything special to use.\n",
    "\n",
    "### However in the majority of the cases, we need to import the function we want to use. As an example we will use the `sqrt` (Square Root) function. The `sqrt` function takes a number as an input an returns its square root. So `sqrt(25)` will return `5` \n",
    "\n",
    "```\n",
    "print(sqrt(25))\n",
    "```"
   ]
  },
  {
   "cell_type": "code",
   "execution_count": null,
   "metadata": {},
   "outputs": [],
   "source": [
    "# Write the code from above and execute it\n"
   ]
  },
  {
   "cell_type": "markdown",
   "metadata": {},
   "source": [
    "### If you execute the code, you will get an error like this\n",
    "\n",
    "```python\n",
    "---------------------------------------------------------------------------\n",
    "NameError                                 Traceback (most recent call last)\n",
    "<ipython-input-9-8d762f1ee25a> in <module>\n",
    "      1 # Write the code from above and execute it\n",
    "----> 2 print(sqrt(25))\n",
    "\n",
    "NameError: name 'sqrt' is not defined\n",
    "```\n",
    "\n",
    "### Python is telling you that it does not know any function named `sqrt`, the fix for that is to import it. \n",
    "\n",
    "```python\n",
    "from math import sqrt\n",
    "print(sqrt(25))\n",
    "```"
   ]
  },
  {
   "cell_type": "code",
   "execution_count": null,
   "metadata": {},
   "outputs": [],
   "source": [
    "# Write the code from above and execute it. \n"
   ]
  },
  {
   "cell_type": "markdown",
   "metadata": {},
   "source": [
    "### The syntax to import functions is as follows.\n",
    "\n",
    "```python\n",
    "from MODULE_NAME import FUNCTION_NAME\n",
    "```\n",
    "\n",
    "### In python a module is simply a collection of functions. There are thousands and thousands of modules in python. This is an incredibly powerful part of the language: you can reuse the code that someone else wrote and build your code on top of it!\n",
    "\n",
    "### A moment ago we wrote a function to calculate the factorial of a number... it turns out there is already a function for that!\n",
    "\n",
    "### https://docs.python.org/3/library/math.html#factorial\n",
    "\n",
    "```python\n",
    "from math import factorial\n",
    "print(factorial(5))\n",
    "```\n"
   ]
  },
  {
   "cell_type": "code",
   "execution_count": null,
   "metadata": {},
   "outputs": [],
   "source": [
    "# Copy the code from above and execute it.\n"
   ]
  },
  {
   "cell_type": "markdown",
   "metadata": {},
   "source": [
    "# Function exercises. \n",
    "\n",
    "## 1. Sequence of fibonacci. \n",
    "### The sequence is described as follows: each new term is computed by adding the values of the two previous terms, the first two terms are `1` and `1`. \n",
    "### The first elements of the sequence are \n",
    "### $$1, 1, 2, 3, 5, 8, 13, 21...$$\n",
    "\n",
    "### Write a function that prints the first $n$ numbers of the sequence.\n",
    "\n",
    "```python\n",
    "def fibonacci(n):\n",
    "    number_of_terms = n\n",
    "    print(1); # First term\n",
    "    print(1); # Second term\n",
    "    \n",
    "    previous = 1\n",
    "    current = 1\n",
    "    next = current + previous\n",
    "    \n",
    "    while number_of_terms < n:\n",
    "        previous = current\n",
    "        current = next\n",
    "        next = previous + current\n",
    "        print(next)\n",
    "    ```\n"
   ]
  },
  {
   "cell_type": "code",
   "execution_count": null,
   "metadata": {},
   "outputs": [],
   "source": [
    "def fibonacci(n):\n",
    "    number_of_terms = 2\n",
    "    print(1); # First term\n",
    "    print(1); # Second term\n",
    "\n",
    "    previous = 1\n",
    "    current = 1\n",
    "    next = current + previous\n",
    "\n",
    "    while number_of_terms != n:\n",
    "        print(next)\n",
    "        previous = current\n",
    "        current = next\n",
    "        next = previous + current\n",
    "        \n",
    "        number_of_terms = number_of_terms + 1"
   ]
  },
  {
   "cell_type": "code",
   "execution_count": null,
   "metadata": {},
   "outputs": [],
   "source": [
    "fibonacci(10)"
   ]
  },
  {
   "cell_type": "markdown",
   "metadata": {},
   "source": [
    "# 2. FizzBuzz\n",
    "## Write a function called fizz_buzz that takes a number.\n",
    "## If the number is divisible by 3, it should return “Fizz”.\n",
    "## If it is divisible by 5, it should return “Buzz”.\n",
    "## If it is divisible by both 3 and 5, it should return “FizzBuzz”.\n",
    "## Otherwise, it should return the same number.\n"
   ]
  },
  {
   "cell_type": "code",
   "execution_count": null,
   "metadata": {},
   "outputs": [],
   "source": [
    "# Solve the exercise here\n",
    "\n",
    "def fizz_buzz(number):\n",
    "    # Solve the function\n",
    "    print(0)\n",
    "    \n",
    "fizz_buzz(9)\n",
    "fizz_buzz(20)\n",
    "fizz_buzz(45)\n",
    "fizz_buzz(7)"
   ]
  },
  {
   "cell_type": "markdown",
   "metadata": {},
   "source": [
    "# 3. Speed check.\n",
    "## Write a function for checking the speed of drivers. This function should have one parameter: speed.\n",
    "## If speed is less than 70, it should print “Ok”.\n",
    "## Otherwise, for every 5km above the speed limit (70), it should give the driver one demerit point and print the total number of demerit points. For example, if the speed is 80, it should print: “Points: 2”.\n",
    "## If the driver gets more than 12 points, the function should print: “License suspended”\n",
    "\n"
   ]
  },
  {
   "cell_type": "code",
   "execution_count": null,
   "metadata": {},
   "outputs": [],
   "source": [
    "def speed_check(driver_speed):\n",
    "    # solve the function here\n",
    "    print(\"Solve it\")\n",
    "    \n",
    "speed_check(60)\n",
    "speed_check(80)\n",
    "speed_check(170)"
   ]
  },
  {
   "cell_type": "markdown",
   "metadata": {},
   "source": []
  }
 ],
 "metadata": {
  "kernelspec": {
   "display_name": "Python 3",
   "language": "python",
   "name": "python3"
  },
  "language_info": {
   "codemirror_mode": {
    "name": "ipython",
    "version": 3
   },
   "file_extension": ".py",
   "mimetype": "text/x-python",
   "name": "python",
   "nbconvert_exporter": "python",
   "pygments_lexer": "ipython3",
   "version": "3.7.3"
  }
 },
 "nbformat": 4,
 "nbformat_minor": 2
}
