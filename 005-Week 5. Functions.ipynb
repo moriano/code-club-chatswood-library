{
 "cells": [
  {
   "cell_type": "markdown",
   "metadata": {},
   "source": [
    "# Week 5. Functions. \n",
    "\n",
    "## Functions are among the most powerful capabilities of any language. \n",
    "\n",
    "## By using functions you can reuse code that other developers have already written. \n",
    "\n",
    "## Python has millions of functions, and you will learn how to reuse them.\n",
    "\n",
    "## What's a function? It is pretty similar to what you studied in mathematics in high school. \n",
    "\n",
    "# $$ f(x) = 3x + 2 $$\n",
    "\n",
    "## Is an example of a function. Lets define it in python.\n",
    "\n",
    "```python\n",
    "def f(x):\n",
    "    return 3*x + 2\n",
    "```"
   ]
  },
  {
   "cell_type": "code",
   "execution_count": 5,
   "metadata": {},
   "outputs": [],
   "source": [
    "# Copy the code from above and execute it\n"
   ]
  },
  {
   "cell_type": "markdown",
   "metadata": {},
   "source": [
    "## Once we have defined our function, we can use it the following way\n",
    "\n",
    "```python\n",
    "result = f(4)\n",
    "print(result)\n",
    "```"
   ]
  },
  {
   "cell_type": "code",
   "execution_count": 6,
   "metadata": {},
   "outputs": [],
   "source": [
    "# Copy the code from above and execute it, can you guess what it will print? \n"
   ]
  },
  {
   "cell_type": "markdown",
   "metadata": {},
   "source": [
    "## Let's show another example: We will write a function that will return whether a number is even or not.\n",
    "\n",
    "```python\n",
    "\n",
    "def is_even(number):\n",
    "    even = False\n",
    "    if number % 2 == 0:\n",
    "        even = True\n",
    "    else:\n",
    "        even = False\n",
    "        \n",
    "    return even\n",
    "\n",
    "# We can now use the function\n",
    "test_1 = is_even(7)\n",
    "print(test_1)\n",
    "\n",
    "test_2 = is_even(144)\n",
    "print(test_2)\n",
    "```"
   ]
  },
  {
   "cell_type": "code",
   "execution_count": 10,
   "metadata": {},
   "outputs": [],
   "source": [
    "# Copy the code from above and execute it, can you guess what it will output?\n"
   ]
  },
  {
   "cell_type": "markdown",
   "metadata": {},
   "source": [
    "## Functions can receive multiple parameters. For example let's define a function that returns the which number is bigger.\n",
    "\n",
    "```python\n",
    "def biggest(number_1, number_2):\n",
    "    result = number_1\n",
    "    if number_1 > number_2:\n",
    "        result = number_1\n",
    "    elif number_1 < number_2:\n",
    "        result = number_2\n",
    "        \n",
    "    return result\n",
    "\n",
    "a = 7\n",
    "b = 12\n",
    "c = 5\n",
    "\n",
    "result_1 = biggest(a, b)\n",
    "print(result_1)\n",
    "\n",
    "result_2 = biggest(c, a)\n",
    "print(result_2)\n",
    "```"
   ]
  },
  {
   "cell_type": "code",
   "execution_count": 14,
   "metadata": {},
   "outputs": [],
   "source": [
    "# Execute the code from above, can you guess what it does? \n"
   ]
  },
  {
   "cell_type": "markdown",
   "metadata": {},
   "source": [
    "## Another example: We will write a function that will tell us whether a number is prime or not. \n",
    "\n",
    "```python\n",
    "def is_prime(number):\n",
    "    prime = True\n",
    "    for divisor in range(2, number):\n",
    "        if number % divisor == 0:\n",
    "            prime = False\n",
    "            break\n",
    "    return prime\n",
    "\n",
    "print(is_prime(7))\n",
    "print(is_prime(12))\n",
    "print(is_prime(35))\n",
    "print(is_prime(157))\n",
    "print(is_prime(15654646846546546546547))\n",
    "```"
   ]
  },
  {
   "cell_type": "code",
   "execution_count": 38,
   "metadata": {},
   "outputs": [],
   "source": [
    "# Copy the code from above, can you guess what it prints? \n"
   ]
  },
  {
   "cell_type": "markdown",
   "metadata": {},
   "source": [
    "## Let's do an exercise. \n",
    "\n",
    "## The factorial of a number $n$ is defined as $n!$\n",
    "\n",
    "## To calculate $n!$ we simply do $n * (n-1) * (n-2) * (n-3) * ...  1$\n"
   ]
  },
  {
   "cell_type": "code",
   "execution_count": 18,
   "metadata": {},
   "outputs": [],
   "source": [
    "def factorial(n):\n",
    "    result = 0\n",
    "    \n",
    "    # Solve the exercise here\n",
    "    \n",
    "    return result"
   ]
  },
  {
   "cell_type": "markdown",
   "metadata": {},
   "source": [
    "## Another exercise: Write a function that performs the following calculation for 100 times.\n",
    "\n",
    "## $ 1 + \\frac{1}{2} + \\frac{1}{3} + \\frac{1}{4} + \\frac{1}{5}  + \\frac{1}{6}  + . . . + \\frac{1}{100} $ \n",
    "\n",
    "## Return the value of the sum."
   ]
  },
  {
   "cell_type": "code",
   "execution_count": 42,
   "metadata": {},
   "outputs": [
    {
     "data": {
      "text/plain": [
       "0"
      ]
     },
     "execution_count": 42,
     "metadata": {},
     "output_type": "execute_result"
    }
   ],
   "source": [
    "def fractions():\n",
    "    result = 0\n",
    "    \n",
    "    # Solve the exercise here\n",
    "    \n",
    "    return result\n",
    "fractions()"
   ]
  },
  {
   "cell_type": "markdown",
   "metadata": {},
   "source": [
    "# Reusing built in python libraries.\n",
    "\n",
    "``` python\n",
    "my_list = [3, 5, -1, -15, 1245, -4544, 0, 17]\n",
    "sorted_list = sorted(my_list)\n",
    "print(sorted_list)\n",
    "```\n"
   ]
  },
  {
   "cell_type": "code",
   "execution_count": 46,
   "metadata": {},
   "outputs": [],
   "source": [
    "# Execute the code from above, can you guess what it does?\n"
   ]
  },
  {
   "cell_type": "code",
   "execution_count": 47,
   "metadata": {},
   "outputs": [
    {
     "ename": "NameError",
     "evalue": "name 's' is not defined",
     "output_type": "error",
     "traceback": [
      "\u001b[0;31m---------------------------------------------------------------------------\u001b[0m",
      "\u001b[0;31mNameError\u001b[0m                                 Traceback (most recent call last)",
      "\u001b[0;32m<ipython-input-47-bf61e0a82f46>\u001b[0m in \u001b[0;36m<module>\u001b[0;34m\u001b[0m\n\u001b[0;32m----> 1\u001b[0;31m \u001b[0minput\u001b[0m\u001b[0;34m(\u001b[0m\u001b[0ms\u001b[0m\u001b[0;34m)\u001b[0m\u001b[0;34m\u001b[0m\u001b[0;34m\u001b[0m\u001b[0m\n\u001b[0m",
      "\u001b[0;31mNameError\u001b[0m: name 's' is not defined"
     ]
    }
   ],
   "source": [
    "input(s)"
   ]
  },
  {
   "cell_type": "code",
   "execution_count": null,
   "metadata": {},
   "outputs": [],
   "source": []
  }
 ],
 "metadata": {
  "kernelspec": {
   "display_name": "Python 3",
   "language": "python",
   "name": "python3"
  },
  "language_info": {
   "codemirror_mode": {
    "name": "ipython",
    "version": 3
   },
   "file_extension": ".py",
   "mimetype": "text/x-python",
   "name": "python",
   "nbconvert_exporter": "python",
   "pygments_lexer": "ipython3",
   "version": "3.7.3"
  }
 },
 "nbformat": 4,
 "nbformat_minor": 2
}
